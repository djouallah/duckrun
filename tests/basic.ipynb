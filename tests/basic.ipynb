{
 "cells": [
  {
   "cell_type": "code",
   "execution_count": null,
   "id": "6ca729fe-a2c7-4c6e-8ea1-92212883b5d7",
   "metadata": {
    "microsoft": {
     "language": "python",
     "language_group": "jupyter_python"
    }
   },
   "outputs": [],
   "source": [
    "import duckrun\n",
    "from   psutil import *"
   ]
  },
  {
   "cell_type": "code",
   "execution_count": 2,
   "id": "94d56bdf-6445-471e-8703-946039ae4bf7",
   "metadata": {
    "microsoft": {
     "language": "python",
     "language_group": "jupyter_python"
    },
    "tags": [
     "parameters"
    ]
   },
   "outputs": [],
   "source": [
    "# please don't use a workspace name, Lakehouse and semantic_model with an empty space, or the same name of the lakehouse recently deleted\n",
    "nbr_days_download     =  int(30 * 2 ** ((cpu_count() - 2) / 2))  # or just input your numbers\n",
    "lh                    = 'power' \n",
    "schema                = 'aemo'\n",
    "semantic_model        = \"directlake_on_onelake\" \n",
    "ws                    =  \"temp\"\n",
    "Nbr_threads           = (cpu_count()*2)+1"
   ]
  },
  {
   "cell_type": "code",
   "execution_count": null,
   "id": "06d4db22-5b31-439b-b326-642378ccc6e6",
   "metadata": {
    "microsoft": {
     "language": "python",
     "language_group": "jupyter_python"
    },
    "tags": []
   },
   "outputs": [],
   "source": [
    "sql_folder            = 'https://github.com/djouallah/fabric_demo/raw/refs/heads/main/transformation/'"
   ]
  },
  {
   "cell_type": "code",
   "execution_count": 4,
   "id": "f02dab12-9c27-4be1-b4f4-4fca2d598dd0",
   "metadata": {
    "microsoft": {
     "language": "python",
     "language_group": "jupyter_python"
    }
   },
   "outputs": [
    {
     "name": "stdout",
     "output_type": "stream",
     "text": [
      "Connecting to Lakehouse...\n",
      "Please login to Azure CLI\n",
      "🔍 Discovering tables in schema 'aemo'...\n",
      "\n",
      "📊 Found 9 Delta tables. Attaching as views...\n",
      "\n",
      "🚀 Attempting batch view creation...\n",
      "  ✅ Batch creation successful: 9 views created\n",
      "\n",
      "============================================================\n",
      "✅ Successfully attached 9/9 tables\n",
      "============================================================\n",
      "\n",
      "CPU times: total: 3.73 s\n",
      "Wall time: 1min 4s\n"
     ]
    }
   ],
   "source": [
    "%%time\n",
    "con = duckrun.connect(f\"{ws}/{lh}.lakehouse/{schema}\", sql_folder)"
   ]
  },
  {
   "cell_type": "code",
   "execution_count": null,
   "id": "0cb55004-4897-450e-ae9d-42266a576085",
   "metadata": {
    "jupyter": {
     "source_hidden": false
    },
    "microsoft": {
     "language": "python",
     "language_group": "jupyter_python"
    }
   },
   "outputs": [],
   "source": [
    "intraday = [\n",
    "              ('scrapingv2', ([\"http://nemweb.com.au/Reports/Current/DispatchIS_Reports/\",\"http://nemweb.com.au/Reports/Current/Dispatch_SCADA/\" ],\n",
    "                            [\"Reports/Current/DispatchIS_Reports/\",\"Reports/Current/Dispatch_SCADA/\"],\n",
    "                             288, ws,lh,Nbr_threads)),\n",
    "              ('price_today','append'),\n",
    "              ('scada_today','append'),\n",
    "              ('duid','ignore'),\n",
    "              ('summary__incremental', 'append')            \n",
    "          ]\n"
   ]
  },
  {
   "cell_type": "code",
   "execution_count": 6,
   "id": "3eed16b6-c7e1-4fb7-b85a-e7fb40c4ccf5",
   "metadata": {
    "microsoft": {
     "language": "python",
     "language_group": "jupyter_python"
    }
   },
   "outputs": [
    {
     "name": "stdout",
     "output_type": "stream",
     "text": [
      "\n",
      "============================================================\n",
      "Task 1/5: scrapingv2\n",
      "============================================================\n",
      "Running Python: scrapingv2(['http://nemweb.com.au/Reports/Current/DispatchIS_Reports/', 'http://nemweb.com.au/Reports/Current/Dispatch_SCADA/'], ['Reports/Current/DispatchIS_Reports/', 'Reports/Current/Dispatch_SCADA/'], 288, 'temp', 'power', 17)\n",
      "Flushed 1 files to disk and updated log Reports/Current/DispatchIS_Reports/download_log.csv\n",
      "Flushed 2 files to disk and updated log Reports/Current/Dispatch_SCADA/download_log.csv\n",
      "http://nemweb.com.au/Reports/Current/DispatchIS_Reports/ - 1 files extracted and uploaded\n",
      "http://nemweb.com.au/Reports/Current/Dispatch_SCADA/ - 2 files extracted and uploaded\n",
      "✅ Python 'scrapingv2' completed\n",
      "\n",
      "============================================================\n",
      "Task 2/5: price_today\n",
      "============================================================\n",
      "✅ SQL 'price_today' → 'price_today' (append)\n",
      "\n",
      "============================================================\n",
      "Task 3/5: scada_today\n",
      "============================================================\n",
      "✅ SQL 'scada_today' → 'scada_today' (append)\n",
      "\n",
      "============================================================\n",
      "Task 4/5: duid\n",
      "============================================================\n",
      "Table duid exists. Skipping (mode='ignore')\n",
      "✅ SQL 'duid' → 'duid' (ignore)\n",
      "\n",
      "============================================================\n",
      "Task 5/5: summary__incremental\n",
      "============================================================\n",
      "✅ SQL 'summary__incremental' → 'summary' (append)\n",
      "\n",
      "============================================================\n",
      "✅ All tasks completed successfully\n",
      "============================================================\n",
      "CPU times: total: 22.9 s\n",
      "Wall time: 2min 37s\n"
     ]
    },
    {
     "data": {
      "text/plain": [
       "True"
      ]
     },
     "execution_count": 6,
     "metadata": {},
     "output_type": "execute_result"
    }
   ],
   "source": [
    "%%time\n",
    "#load today data\n",
    "con.run(intraday)"
   ]
  },
  {
   "cell_type": "code",
   "execution_count": 1,
   "id": "74b9c982",
   "metadata": {},
   "outputs": [
    {
     "name": "stdout",
     "output_type": "stream",
     "text": [
      "Connecting to Lakehouse...\n",
      "ℹ️  No schema specified. Using default schema 'dbo' for operations.\n",
      "   Scanning all schemas for table discovery...\n",
      "\n",
      "Please login to Azure CLI\n",
      "🔍 Discovering schemas...\n",
      "   Found 1 schemas: dbo\n",
      "\n",
      "🔍 Discovering tables...\n",
      "\n",
      "📊 Found 1 Delta tables. Attaching as views...\n",
      "\n",
      "  ✓ Attached: dbo.sss → dbo_sss\n",
      "\n",
      "============================================================\n",
      "✅ Successfully attached 1/1 tables\n",
      "============================================================\n",
      "\n",
      "\n",
      "💡 Note: Tables are prefixed with schema (e.g., dbo_tablename)\n",
      "   Default schema for operations: dbo\n",
      "\n",
      "Writing to Delta table: wa.base (mode=overwrite)\n",
      "✅ Table wa.base created/overwritten\n",
      "┌──────────────────┬──────────────────────┬───┬──────────────────┬──────────────────────┬─────────────────────┐\n",
      "│ Participant Code │   Participant Name   │ … │ System Size (MW) │ Remaining capacity…  │    Extracted At     │\n",
      "│     varchar      │       varchar        │   │      double      │        double        │      timestamp      │\n",
      "├──────────────────┼──────────────────────┼───┼──────────────────┼──────────────────────┼─────────────────────┤\n",
      "│ ALCOA            │ Alcoa of Australia…  │ … │             NULL │                 66.0 │ 2025-10-05 06:30:15 │\n",
      "│ ALCOA            │ Alcoa of Australia…  │ … │             NULL │                 66.0 │ NULL                │\n",
      "│ ALCOA            │ Alcoa of Australia…  │ … │             NULL │                 NULL │ NULL                │\n",
      "│ ALCOA            │ Alcoa of Australia…  │ … │             16.0 │                 NULL │ NULL                │\n",
      "│ ALCOA            │ Alcoa of Australia…  │ … │             NULL │                 85.0 │ NULL                │\n",
      "│ ALCOA            │ Alcoa of Australia…  │ … │             NULL │                 85.0 │ NULL                │\n",
      "│ ALINTA           │ Alinta Sales Pty Ltd │ … │            143.0 │                 NULL │ NULL                │\n",
      "│ ALINTA           │ Alinta Sales Pty Ltd │ … │            143.0 │                 NULL │ NULL                │\n",
      "│ ALINTA           │ Alinta Sales Pty Ltd │ … │            196.0 │                 NULL │ NULL                │\n",
      "│ ALINTA           │ Alinta Sales Pty Ltd │ … │            196.0 │                 NULL │ NULL                │\n",
      "│   ·              │          ·           │ · │              ·   │                   ·  │  ·                  │\n",
      "│   ·              │          ·           │ · │              ·   │                   ·  │  ·                  │\n",
      "│   ·              │          ·           │ · │              ·   │                   ·  │  ·                  │\n",
      "│ TSLA_GER         │ Tesla Geraldton Pt…  │ … │            9.999 │                 NULL │ NULL                │\n",
      "│ TSLA_KEM         │ Tesla Kemerton Pty…  │ … │            9.999 │                 NULL │ NULL                │\n",
      "│ TSLA_NOR         │ Tesla Northam Pty …  │ … │            9.999 │                 NULL │ NULL                │\n",
      "│ TIWEST           │ Tronox Management …  │ … │             42.1 │                 NULL │ NULL                │\n",
      "│ WGRES            │ Waste Gas Resource…  │ … │            3.192 │                 NULL │ NULL                │\n",
      "│ PREMPWR          │ Wesfarmers Kleenhe…  │ … │             NULL │                 NULL │ NULL                │\n",
      "│ WENERGY          │ Western Energy Pty…  │ … │            109.0 │                 NULL │ NULL                │\n",
      "│ WPNTWK           │ Western Power        │ … │             NULL │                 NULL │ NULL                │\n",
      "│ WPNTWK           │ Western Power        │ … │             NULL │                 NULL │ NULL                │\n",
      "│ KWTE             │ NULL                 │ … │             43.0 │                 NULL │ NULL                │\n",
      "├──────────────────┴──────────────────────┴───┴──────────────────┴──────────────────────┴─────────────────────┤\n",
      "│ 90 rows (20 shown)                                                                      7 columns (5 shown) │\n",
      "└─────────────────────────────────────────────────────────────────────────────────────────────────────────────┘\n",
      "\n"
     ]
    }
   ],
   "source": [
    "import duckrun\n",
    "con = duckrun.connect(\"temp/temp.lakehouse\")\n",
    "con.sql(\"\"\"  FROM read_csv_auto('https://data.wa.aemo.com.au/datafiles/post-facilities/facilities.csv')\n",
    "       \"\"\").write.mode(\"overwrite\").saveAsTable(\"wa.base\")\n",
    "con.sql(\" from base \").show(max_width=120)"
   ]
  },
  {
   "cell_type": "code",
   "execution_count": 2,
   "id": "3d2408ac",
   "metadata": {},
   "outputs": [
    {
     "name": "stdout",
     "output_type": "stream",
     "text": [
      "📁 Uploading 2 files from 'C:\\lakehouse\\default\\Files\\calendar' to OneLake Files...\n",
      "   Target folder: xxx\n",
      "  ✓ Uploaded: C:\\lakehouse\\default\\Files\\calendar\\calendar.parquet → xxx/calendar.parquet (13.2 KB)\n",
      "  ✓ Uploaded: C:\\lakehouse\\default\\Files\\calendar\\data_0.parquet → xxx/data_0.parquet (0.1 KB)\n",
      "\n",
      "============================================================\n",
      "✅ Successfully uploaded all 2 files to OneLake Files\n",
      "============================================================\n"
     ]
    },
    {
     "data": {
      "text/plain": [
       "True"
      ]
     },
     "execution_count": 2,
     "metadata": {},
     "output_type": "execute_result"
    }
   ],
   "source": [
    "con.copy(\"C:\\lakehouse\\default\\Files\\calendar\",\"xxx\")"
   ]
  },
  {
   "cell_type": "code",
   "execution_count": 4,
   "id": "a19be4f6",
   "metadata": {},
   "outputs": [
    {
     "name": "stdout",
     "output_type": "stream",
     "text": [
      "📁 Discovering files in OneLake Files...\n",
      "   Source folder: xxx\n",
      "📥 Downloading 2 files to 'C:\\lakehouse\\default\\Files\\calendar'...\n",
      "  ✓ Downloaded: xxx/calendar.parquet → C:\\lakehouse\\default\\Files\\calendar\\calendar.parquet (13.2 KB)\n",
      "  ✓ Downloaded: xxx/data_0.parquet → C:\\lakehouse\\default\\Files\\calendar\\data_0.parquet (0.1 KB)\n",
      "\n",
      "============================================================\n",
      "✅ Successfully downloaded all 2 files from OneLake Files\n",
      "============================================================\n"
     ]
    },
    {
     "data": {
      "text/plain": [
       "True"
      ]
     },
     "execution_count": 4,
     "metadata": {},
     "output_type": "execute_result"
    }
   ],
   "source": [
    "con.download(\"xxx\",\"C:\\lakehouse\\default\\Files\\calendar\",overwrite=True)"
   ]
  }
 ],
 "metadata": {
  "dependencies": {
   "lakehouse": {}
  },
  "kernel_info": {
   "jupyter_kernel_name": "python3.11",
   "name": "jupyter"
  },
  "kernelspec": {
   "display_name": ".venv",
   "language": "python",
   "name": "python3"
  },
  "language_info": {
   "codemirror_mode": {
    "name": "ipython",
    "version": 3
   },
   "file_extension": ".py",
   "mimetype": "text/x-python",
   "name": "python",
   "nbconvert_exporter": "python",
   "pygments_lexer": "ipython3",
   "version": "3.11.9"
  },
  "microsoft": {
   "language": "python",
   "language_group": "jupyter_python",
   "ms_spell_check": {
    "ms_spell_check_language": "en"
   }
  },
  "nteract": {
   "version": "nteract-front-end@1.0.0"
  },
  "spark_compute": {
   "compute_id": "/trident/default",
   "session_options": {
    "conf": {
     "spark.synapse.nbs.session.timeout": "1200000"
    }
   }
  },
  "widgets": {
   "application/vnd.jupyter.widget-state+json": {
    "state": {
     "0365fe1e1afe4f5f829facd4c112e47a": {
      "model_module": "@jupyter-widgets/controls",
      "model_module_version": "2.0.0",
      "model_name": "FloatProgressModel",
      "state": {
       "layout": "IPY_MODEL_6ada2190d1dc48138e41a9ee4e5f8032",
       "style": "IPY_MODEL_38129b1a55ad417c8711f53b81b312a9",
       "value": 100
      }
     },
     "38129b1a55ad417c8711f53b81b312a9": {
      "model_module": "@jupyter-widgets/controls",
      "model_module_version": "2.0.0",
      "model_name": "ProgressStyleModel",
      "state": {
       "bar_color": "black",
       "description_width": ""
      }
     },
     "6ada2190d1dc48138e41a9ee4e5f8032": {
      "model_module": "@jupyter-widgets/base",
      "model_module_version": "2.0.0",
      "model_name": "LayoutModel",
      "state": {
       "width": "auto"
      }
     }
    },
    "version_major": 2,
    "version_minor": 0
   }
  }
 },
 "nbformat": 4,
 "nbformat_minor": 5
}
